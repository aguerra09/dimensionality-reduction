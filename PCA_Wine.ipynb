{
 "cells": [
  {
   "metadata": {},
   "cell_type": "markdown",
   "source": "# Principal Component Analysis from scratch applied to Wine dataset",
   "id": "d53aa0491150c528"
  },
  {
   "metadata": {},
   "cell_type": "markdown",
   "source": "The main objective of this Notebook is to implement Principal Component Analysis from scratch using the eigenvectors and eigenvalues method with help of the Numpy library and apply it to Wine dataset. From the obtained Principal Components, we extract the dominant or more important features of the dataset. To conclude, we compare the results from our implementation versus sciklearn builtin method.",
   "id": "f98a1ae615b7dcd7"
  },
  {
   "metadata": {},
   "cell_type": "markdown",
   "source": [
    "## Index\n",
    " 1. PCA implementation using eigenvectors and eigenvalues.\n",
    "2. Apply PCA builtin method from sklearn and compare results."
   ],
   "id": "5b6cd846e20ad49f"
  },
  {
   "metadata": {},
   "cell_type": "markdown",
   "source": "## 1. PCA implementation using eigenvectors and eigenvalues",
   "id": "70d7eaa745d4b735"
  },
  {
   "cell_type": "code",
   "id": "initial_id",
   "metadata": {
    "collapsed": true,
    "ExecuteTime": {
     "end_time": "2025-09-21T07:45:27.866708Z",
     "start_time": "2025-09-21T07:45:26.547732Z"
    }
   },
   "source": [
    "import numpy as np\n",
    "import pandas as pd\n",
    "from sklearn import datasets\n",
    "from sklearn.preprocessing import StandardScaler\n",
    "import matplotlib.pyplot as plt"
   ],
   "outputs": [],
   "execution_count": 1
  },
  {
   "metadata": {
    "ExecuteTime": {
     "end_time": "2025-09-21T07:45:27.874709Z",
     "start_time": "2025-09-21T07:45:27.869825Z"
    }
   },
   "cell_type": "code",
   "source": [
    "wine_dataset = datasets.load_wine()\n",
    "X = wine_dataset.data"
   ],
   "id": "38879bb6ee8ff52d",
   "outputs": [],
   "execution_count": 2
  },
  {
   "metadata": {
    "ExecuteTime": {
     "end_time": "2025-09-21T07:45:27.879796Z",
     "start_time": "2025-09-21T07:45:27.877998Z"
    }
   },
   "cell_type": "code",
   "source": [
    "feature_names = wine_dataset.feature_names\n",
    "print(f\"Feature names: {', '.join(feature_names)}\")\n",
    "\n",
    "wine_types = wine_dataset.target_names\n",
    "print(f\"Wine types: {', '.join(wine_types)}\")"
   ],
   "id": "6fde9237049c9d5f",
   "outputs": [
    {
     "name": "stdout",
     "output_type": "stream",
     "text": [
      "Feature names: alcohol, malic_acid, ash, alcalinity_of_ash, magnesium, total_phenols, flavanoids, nonflavanoid_phenols, proanthocyanins, color_intensity, hue, od280/od315_of_diluted_wines, proline\n",
      "Wine types: class_0, class_1, class_2\n"
     ]
    }
   ],
   "execution_count": 3
  },
  {
   "metadata": {
    "ExecuteTime": {
     "end_time": "2025-09-21T07:45:27.886849Z",
     "start_time": "2025-09-21T07:45:27.885274Z"
    }
   },
   "cell_type": "code",
   "source": [
    "n, m = X.shape\n",
    "print(f\"Samples: {n}\", f\"Features: {m}\")"
   ],
   "id": "ee7a153f72af2761",
   "outputs": [
    {
     "name": "stdout",
     "output_type": "stream",
     "text": [
      "Samples: 178 Features: 13\n"
     ]
    }
   ],
   "execution_count": 4
  },
  {
   "metadata": {
    "ExecuteTime": {
     "end_time": "2025-09-21T07:45:27.894460Z",
     "start_time": "2025-09-21T07:45:27.892120Z"
    }
   },
   "cell_type": "code",
   "source": [
    "data = StandardScaler().fit_transform(X)\n",
    "C_x = np.cov(data, rowvar=False)"
   ],
   "id": "8633d84fc654c1ff",
   "outputs": [],
   "execution_count": 5
  },
  {
   "metadata": {
    "ExecuteTime": {
     "end_time": "2025-09-21T07:45:27.907454Z",
     "start_time": "2025-09-21T07:45:27.898234Z"
    }
   },
   "cell_type": "code",
   "source": [
    "eigvals, eigvecs = np.linalg.eig(C_x)\n",
    "print(f\"Eigenvalues: {eigvals}\")\n",
    "pd.DataFrame(data=eigvecs, columns=feature_names)"
   ],
   "id": "2904c6e0a09c6a44",
   "outputs": [
    {
     "name": "stdout",
     "output_type": "stream",
     "text": [
      "Eigenvalues: [4.73243698 2.51108093 1.45424187 0.92416587 0.85804868 0.64528221\n",
      " 0.55414147 0.10396199 0.35046627 0.16972374 0.29051203 0.22706428\n",
      " 0.25232001]\n"
     ]
    },
    {
     "data": {
      "text/plain": [
       "     alcohol  malic_acid       ash  alcalinity_of_ash  magnesium  \\\n",
       "0  -0.144329    0.483652 -0.207383           0.017856  -0.265664   \n",
       "1   0.245188    0.224931  0.089013          -0.536890   0.035214   \n",
       "2   0.002051    0.316069  0.626224           0.214176  -0.143025   \n",
       "3   0.239320   -0.010591  0.612080          -0.060859   0.066103   \n",
       "4  -0.141992    0.299634  0.130757           0.351797   0.727049   \n",
       "5  -0.394661    0.065040  0.146179          -0.198068  -0.149318   \n",
       "6  -0.422934   -0.003360  0.150682          -0.152295  -0.109026   \n",
       "7   0.298533    0.028779  0.170368           0.203301  -0.500703   \n",
       "8  -0.313429    0.039302  0.149454          -0.399057   0.136860   \n",
       "9   0.088617    0.529996 -0.137306          -0.065926  -0.076437   \n",
       "10 -0.296715   -0.279235  0.085222           0.427771  -0.173615   \n",
       "11 -0.376167   -0.164496  0.166005          -0.184121  -0.101161   \n",
       "12 -0.286752    0.364903 -0.126746           0.232071  -0.157869   \n",
       "\n",
       "    total_phenols  flavanoids  nonflavanoid_phenols  proanthocyanins  \\\n",
       "0        0.213539    0.056396             -0.014970         0.396139   \n",
       "1        0.536814   -0.420524             -0.025964         0.065827   \n",
       "2        0.154475    0.149171              0.141218        -0.170260   \n",
       "3       -0.100825    0.286969             -0.091683         0.427970   \n",
       "4        0.038144   -0.322883             -0.056774        -0.156361   \n",
       "5       -0.084122    0.027925              0.463908        -0.405934   \n",
       "6       -0.018920    0.060685             -0.832257        -0.187245   \n",
       "7       -0.258594   -0.595447             -0.114040        -0.233285   \n",
       "8       -0.533795   -0.372139              0.116917         0.368227   \n",
       "9       -0.418644    0.227712              0.011993        -0.033797   \n",
       "10       0.105983   -0.232076              0.089889         0.436624   \n",
       "11       0.265851    0.044764              0.156718        -0.078108   \n",
       "12       0.119726   -0.076805             -0.014447         0.120023   \n",
       "\n",
       "    color_intensity       hue  od280/od315_of_diluted_wines   proline  \n",
       "0         -0.266286 -0.508619                     -0.225917  0.211605  \n",
       "1          0.121696  0.075283                      0.076486 -0.309080  \n",
       "2         -0.049622  0.307694                     -0.498691 -0.027125  \n",
       "3         -0.055743 -0.200449                      0.479314  0.052799  \n",
       "4          0.062220 -0.271403                      0.071289  0.067870  \n",
       "5         -0.303882 -0.286035                      0.304341 -0.320131  \n",
       "6         -0.042899 -0.049578                     -0.025694 -0.163151  \n",
       "7          0.042352 -0.195501                      0.116896  0.215535  \n",
       "8         -0.095553  0.209145                     -0.237363  0.134184  \n",
       "9          0.604222 -0.056218                      0.031839 -0.290775  \n",
       "10         0.259214 -0.085828                     -0.048212 -0.522399  \n",
       "11         0.600959 -0.137227                      0.046423  0.523706  \n",
       "12        -0.079402  0.575786                      0.539270  0.162116  "
      ],
      "text/html": [
       "<div>\n",
       "<style scoped>\n",
       "    .dataframe tbody tr th:only-of-type {\n",
       "        vertical-align: middle;\n",
       "    }\n",
       "\n",
       "    .dataframe tbody tr th {\n",
       "        vertical-align: top;\n",
       "    }\n",
       "\n",
       "    .dataframe thead th {\n",
       "        text-align: right;\n",
       "    }\n",
       "</style>\n",
       "<table border=\"1\" class=\"dataframe\">\n",
       "  <thead>\n",
       "    <tr style=\"text-align: right;\">\n",
       "      <th></th>\n",
       "      <th>alcohol</th>\n",
       "      <th>malic_acid</th>\n",
       "      <th>ash</th>\n",
       "      <th>alcalinity_of_ash</th>\n",
       "      <th>magnesium</th>\n",
       "      <th>total_phenols</th>\n",
       "      <th>flavanoids</th>\n",
       "      <th>nonflavanoid_phenols</th>\n",
       "      <th>proanthocyanins</th>\n",
       "      <th>color_intensity</th>\n",
       "      <th>hue</th>\n",
       "      <th>od280/od315_of_diluted_wines</th>\n",
       "      <th>proline</th>\n",
       "    </tr>\n",
       "  </thead>\n",
       "  <tbody>\n",
       "    <tr>\n",
       "      <th>0</th>\n",
       "      <td>-0.144329</td>\n",
       "      <td>0.483652</td>\n",
       "      <td>-0.207383</td>\n",
       "      <td>0.017856</td>\n",
       "      <td>-0.265664</td>\n",
       "      <td>0.213539</td>\n",
       "      <td>0.056396</td>\n",
       "      <td>-0.014970</td>\n",
       "      <td>0.396139</td>\n",
       "      <td>-0.266286</td>\n",
       "      <td>-0.508619</td>\n",
       "      <td>-0.225917</td>\n",
       "      <td>0.211605</td>\n",
       "    </tr>\n",
       "    <tr>\n",
       "      <th>1</th>\n",
       "      <td>0.245188</td>\n",
       "      <td>0.224931</td>\n",
       "      <td>0.089013</td>\n",
       "      <td>-0.536890</td>\n",
       "      <td>0.035214</td>\n",
       "      <td>0.536814</td>\n",
       "      <td>-0.420524</td>\n",
       "      <td>-0.025964</td>\n",
       "      <td>0.065827</td>\n",
       "      <td>0.121696</td>\n",
       "      <td>0.075283</td>\n",
       "      <td>0.076486</td>\n",
       "      <td>-0.309080</td>\n",
       "    </tr>\n",
       "    <tr>\n",
       "      <th>2</th>\n",
       "      <td>0.002051</td>\n",
       "      <td>0.316069</td>\n",
       "      <td>0.626224</td>\n",
       "      <td>0.214176</td>\n",
       "      <td>-0.143025</td>\n",
       "      <td>0.154475</td>\n",
       "      <td>0.149171</td>\n",
       "      <td>0.141218</td>\n",
       "      <td>-0.170260</td>\n",
       "      <td>-0.049622</td>\n",
       "      <td>0.307694</td>\n",
       "      <td>-0.498691</td>\n",
       "      <td>-0.027125</td>\n",
       "    </tr>\n",
       "    <tr>\n",
       "      <th>3</th>\n",
       "      <td>0.239320</td>\n",
       "      <td>-0.010591</td>\n",
       "      <td>0.612080</td>\n",
       "      <td>-0.060859</td>\n",
       "      <td>0.066103</td>\n",
       "      <td>-0.100825</td>\n",
       "      <td>0.286969</td>\n",
       "      <td>-0.091683</td>\n",
       "      <td>0.427970</td>\n",
       "      <td>-0.055743</td>\n",
       "      <td>-0.200449</td>\n",
       "      <td>0.479314</td>\n",
       "      <td>0.052799</td>\n",
       "    </tr>\n",
       "    <tr>\n",
       "      <th>4</th>\n",
       "      <td>-0.141992</td>\n",
       "      <td>0.299634</td>\n",
       "      <td>0.130757</td>\n",
       "      <td>0.351797</td>\n",
       "      <td>0.727049</td>\n",
       "      <td>0.038144</td>\n",
       "      <td>-0.322883</td>\n",
       "      <td>-0.056774</td>\n",
       "      <td>-0.156361</td>\n",
       "      <td>0.062220</td>\n",
       "      <td>-0.271403</td>\n",
       "      <td>0.071289</td>\n",
       "      <td>0.067870</td>\n",
       "    </tr>\n",
       "    <tr>\n",
       "      <th>5</th>\n",
       "      <td>-0.394661</td>\n",
       "      <td>0.065040</td>\n",
       "      <td>0.146179</td>\n",
       "      <td>-0.198068</td>\n",
       "      <td>-0.149318</td>\n",
       "      <td>-0.084122</td>\n",
       "      <td>0.027925</td>\n",
       "      <td>0.463908</td>\n",
       "      <td>-0.405934</td>\n",
       "      <td>-0.303882</td>\n",
       "      <td>-0.286035</td>\n",
       "      <td>0.304341</td>\n",
       "      <td>-0.320131</td>\n",
       "    </tr>\n",
       "    <tr>\n",
       "      <th>6</th>\n",
       "      <td>-0.422934</td>\n",
       "      <td>-0.003360</td>\n",
       "      <td>0.150682</td>\n",
       "      <td>-0.152295</td>\n",
       "      <td>-0.109026</td>\n",
       "      <td>-0.018920</td>\n",
       "      <td>0.060685</td>\n",
       "      <td>-0.832257</td>\n",
       "      <td>-0.187245</td>\n",
       "      <td>-0.042899</td>\n",
       "      <td>-0.049578</td>\n",
       "      <td>-0.025694</td>\n",
       "      <td>-0.163151</td>\n",
       "    </tr>\n",
       "    <tr>\n",
       "      <th>7</th>\n",
       "      <td>0.298533</td>\n",
       "      <td>0.028779</td>\n",
       "      <td>0.170368</td>\n",
       "      <td>0.203301</td>\n",
       "      <td>-0.500703</td>\n",
       "      <td>-0.258594</td>\n",
       "      <td>-0.595447</td>\n",
       "      <td>-0.114040</td>\n",
       "      <td>-0.233285</td>\n",
       "      <td>0.042352</td>\n",
       "      <td>-0.195501</td>\n",
       "      <td>0.116896</td>\n",
       "      <td>0.215535</td>\n",
       "    </tr>\n",
       "    <tr>\n",
       "      <th>8</th>\n",
       "      <td>-0.313429</td>\n",
       "      <td>0.039302</td>\n",
       "      <td>0.149454</td>\n",
       "      <td>-0.399057</td>\n",
       "      <td>0.136860</td>\n",
       "      <td>-0.533795</td>\n",
       "      <td>-0.372139</td>\n",
       "      <td>0.116917</td>\n",
       "      <td>0.368227</td>\n",
       "      <td>-0.095553</td>\n",
       "      <td>0.209145</td>\n",
       "      <td>-0.237363</td>\n",
       "      <td>0.134184</td>\n",
       "    </tr>\n",
       "    <tr>\n",
       "      <th>9</th>\n",
       "      <td>0.088617</td>\n",
       "      <td>0.529996</td>\n",
       "      <td>-0.137306</td>\n",
       "      <td>-0.065926</td>\n",
       "      <td>-0.076437</td>\n",
       "      <td>-0.418644</td>\n",
       "      <td>0.227712</td>\n",
       "      <td>0.011993</td>\n",
       "      <td>-0.033797</td>\n",
       "      <td>0.604222</td>\n",
       "      <td>-0.056218</td>\n",
       "      <td>0.031839</td>\n",
       "      <td>-0.290775</td>\n",
       "    </tr>\n",
       "    <tr>\n",
       "      <th>10</th>\n",
       "      <td>-0.296715</td>\n",
       "      <td>-0.279235</td>\n",
       "      <td>0.085222</td>\n",
       "      <td>0.427771</td>\n",
       "      <td>-0.173615</td>\n",
       "      <td>0.105983</td>\n",
       "      <td>-0.232076</td>\n",
       "      <td>0.089889</td>\n",
       "      <td>0.436624</td>\n",
       "      <td>0.259214</td>\n",
       "      <td>-0.085828</td>\n",
       "      <td>-0.048212</td>\n",
       "      <td>-0.522399</td>\n",
       "    </tr>\n",
       "    <tr>\n",
       "      <th>11</th>\n",
       "      <td>-0.376167</td>\n",
       "      <td>-0.164496</td>\n",
       "      <td>0.166005</td>\n",
       "      <td>-0.184121</td>\n",
       "      <td>-0.101161</td>\n",
       "      <td>0.265851</td>\n",
       "      <td>0.044764</td>\n",
       "      <td>0.156718</td>\n",
       "      <td>-0.078108</td>\n",
       "      <td>0.600959</td>\n",
       "      <td>-0.137227</td>\n",
       "      <td>0.046423</td>\n",
       "      <td>0.523706</td>\n",
       "    </tr>\n",
       "    <tr>\n",
       "      <th>12</th>\n",
       "      <td>-0.286752</td>\n",
       "      <td>0.364903</td>\n",
       "      <td>-0.126746</td>\n",
       "      <td>0.232071</td>\n",
       "      <td>-0.157869</td>\n",
       "      <td>0.119726</td>\n",
       "      <td>-0.076805</td>\n",
       "      <td>-0.014447</td>\n",
       "      <td>0.120023</td>\n",
       "      <td>-0.079402</td>\n",
       "      <td>0.575786</td>\n",
       "      <td>0.539270</td>\n",
       "      <td>0.162116</td>\n",
       "    </tr>\n",
       "  </tbody>\n",
       "</table>\n",
       "</div>"
      ]
     },
     "execution_count": 6,
     "metadata": {},
     "output_type": "execute_result"
    }
   ],
   "execution_count": 6
  },
  {
   "metadata": {
    "ExecuteTime": {
     "end_time": "2025-09-21T07:45:27.934129Z",
     "start_time": "2025-09-21T07:45:27.932001Z"
    }
   },
   "cell_type": "code",
   "source": [
    "indices = np.argsort(-eigvals)\n",
    "print(f\"Order indices: {indices}\")"
   ],
   "id": "108a79045a1380d9",
   "outputs": [
    {
     "name": "stdout",
     "output_type": "stream",
     "text": [
      "Order indices: [ 0  1  2  3  4  5  6  8 10 12 11  9  7]\n"
     ]
    }
   ],
   "execution_count": 7
  },
  {
   "metadata": {
    "ExecuteTime": {
     "end_time": "2025-09-21T07:45:27.979941Z",
     "start_time": "2025-09-21T07:45:27.978393Z"
    }
   },
   "cell_type": "code",
   "source": [
    "eigvals = eigvals[indices]\n",
    "eigvecs = eigvecs[:, indices]"
   ],
   "id": "f8a00deb73112b6",
   "outputs": [],
   "execution_count": 8
  },
  {
   "metadata": {
    "ExecuteTime": {
     "end_time": "2025-09-21T07:45:27.994227Z",
     "start_time": "2025-09-21T07:45:27.992529Z"
    }
   },
   "cell_type": "code",
   "source": "PCs = data @ eigvecs",
   "id": "bfd62d003eb5df8e",
   "outputs": [],
   "execution_count": 9
  },
  {
   "metadata": {
    "ExecuteTime": {
     "end_time": "2025-09-21T07:45:28.125930Z",
     "start_time": "2025-09-21T07:45:28.052513Z"
    }
   },
   "cell_type": "code",
   "source": [
    "plt.figure(figsize=(8, 6))\n",
    "scatter = plt.scatter(x=PCs[:,0], y=PCs[:,1], c=wine_dataset.target)\n",
    "plt.xlabel(\"PC1\")\n",
    "plt.ylabel(\"PC2\")\n",
    "plt.title(\"Wine 2D PC projection\")\n",
    "handles, _ = scatter.legend_elements()\n",
    "plt.legend(handles, wine_dataset.target_names, title=\"Wines\")\n",
    "plt.show()"
   ],
   "id": "b961ab0805554f88",
   "outputs": [
    {
     "data": {
      "text/plain": [
       "<Figure size 800x600 with 1 Axes>"
      ],
      "image/png": "[encoded data removed]"
     },
     "metadata": {},
     "output_type": "display_data",
     "jetTransient": {
      "display_id": null
     }
    }
   ],
   "execution_count": 10
  },
  {
   "metadata": {
    "ExecuteTime": {
     "end_time": "2025-09-21T07:45:28.206828Z",
     "start_time": "2025-09-21T07:45:28.150782Z"
    }
   },
   "cell_type": "code",
   "source": [
    "explained_var = eigvals / eigvals.sum()\n",
    "cum_explained_var = np.cumsum(explained_var)\n",
    "\n",
    "plt.figure(figsize=(8, 6))\n",
    "plt.bar(range(1, len(eigvals)+1), explained_var, alpha=0.7, label=\"Explained variance\")\n",
    "plt.plot(range(1, len(eigvals)+1), cum_explained_var, marker=\"o\", color=\"red\", label=\"Accumulated\")\n",
    "\n",
    "plt.xlabel(\"Principal component\")\n",
    "plt.ylabel(\"Proportion of variance\")\n",
    "plt.title(\"PCA Wine dataset\")\n",
    "plt.legend()\n",
    "plt.grid(True)\n",
    "plt.show()"
   ],
   "id": "84f772e5ecb183cb",
   "outputs": [
    {
     "data": {
      "text/plain": [
       "<Figure size 800x600 with 1 Axes>"
      ],
      "image/png": "[encoded data removed]"
     },
     "metadata": {},
     "output_type": "display_data",
     "jetTransient": {
      "display_id": null
     }
    }
   ],
   "execution_count": 11
  },
  {
   "metadata": {},
   "cell_type": "markdown",
   "source": "The three first PCs captures around 65% of the variance.",
   "id": "1461f26da1251e83"
  },
  {
   "metadata": {},
   "cell_type": "markdown",
   "source": "## 2. Apply PCA builtin method from sklearn and compare results.",
   "id": "5c6a071d98e5bf5e"
  },
  {
   "metadata": {},
   "cell_type": "code",
   "outputs": [],
   "execution_count": null,
   "source": "",
   "id": "5179334b6e8eab7c"
  }
 ],
 "metadata": {
  "kernelspec": {
   "display_name": "Python 3",
   "language": "python",
   "name": "python3"
  },
  "language_info": {
   "codemirror_mode": {
    "name": "ipython",
    "version": 2
   },
   "file_extension": ".py",
   "mimetype": "text/x-python",
   "name": "python",
   "nbconvert_exporter": "python",
   "pygments_lexer": "ipython2",
   "version": "2.7.6"
  }
 },
 "nbformat": 4,
 "nbformat_minor": 5
}
